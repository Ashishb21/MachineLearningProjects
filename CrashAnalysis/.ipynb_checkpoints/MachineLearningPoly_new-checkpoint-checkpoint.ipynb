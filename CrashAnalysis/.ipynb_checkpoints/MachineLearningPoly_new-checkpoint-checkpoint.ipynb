{
 "cells": [
  {
   "cell_type": "code",
   "execution_count": 210,
   "metadata": {},
   "outputs": [],
   "source": [
    "#Import Libraries"
   ]
  },
  {
   "cell_type": "code",
   "execution_count": 211,
   "metadata": {},
   "outputs": [],
   "source": [
    "import pandas as pd\n",
    "import numpy as np\n",
    "import scipy as sp\n",
    "import matplotlib.pyplot as plt \n",
    "import matplotlib.mlab as mlab\n",
    "import seaborn as sns\n",
    "%matplotlib inline "
   ]
  },
  {
   "cell_type": "code",
   "execution_count": 212,
   "metadata": {},
   "outputs": [],
   "source": [
    "#read input data"
   ]
  },
  {
   "cell_type": "code",
   "execution_count": 213,
   "metadata": {},
   "outputs": [],
   "source": [
    "Input_data = pd.read_excel('Input Data.xlsx')"
   ]
  },
  {
   "cell_type": "code",
   "execution_count": 214,
   "metadata": {},
   "outputs": [],
   "source": [
    "#read columns"
   ]
  },
  {
   "cell_type": "code",
   "execution_count": 215,
   "metadata": {},
   "outputs": [
    {
     "data": {
      "text/plain": [
       "Index(['timeframe', 'uuid', 'cpu', 'memfree', 'totalConf', 'version',\n",
       "       'AVCParty', 'PartyJoined', 'ContentStarted', 'SVCParty',\n",
       "       'ContentRejected', 'totalCrash', 'VMSize (ConfParty)', 'confEncrypted',\n",
       "       'H323Party', 'SIPParty', 'MfagetstackBT', 'pstack-mfa', 'CDR',\n",
       "       'Resource', 'CertMngr', 'SystemMonitorin', 'Vreader', 'McmsDaemon',\n",
       "       'backtrace', 'MCCFMngr', 'Logger'],\n",
       "      dtype='object')"
      ]
     },
     "execution_count": 215,
     "metadata": {},
     "output_type": "execute_result"
    }
   ],
   "source": [
    "Input_data.columns"
   ]
  },
  {
   "cell_type": "code",
   "execution_count": 216,
   "metadata": {},
   "outputs": [],
   "source": [
    "#read columns info"
   ]
  },
  {
   "cell_type": "code",
   "execution_count": 217,
   "metadata": {},
   "outputs": [
    {
     "name": "stdout",
     "output_type": "stream",
     "text": [
      "<class 'pandas.core.frame.DataFrame'>\n",
      "RangeIndex: 3216 entries, 0 to 3215\n",
      "Data columns (total 27 columns):\n",
      "timeframe             3214 non-null object\n",
      "uuid                  3215 non-null object\n",
      "cpu                   2081 non-null float64\n",
      "memfree               2088 non-null float64\n",
      "totalConf             2089 non-null float64\n",
      "version               2088 non-null object\n",
      "AVCParty              2088 non-null float64\n",
      "PartyJoined           2087 non-null float64\n",
      "ContentStarted        2088 non-null float64\n",
      "SVCParty              2089 non-null float64\n",
      "ContentRejected       2089 non-null float64\n",
      "totalCrash            34 non-null float64\n",
      "VMSize (ConfParty)    2768 non-null float64\n",
      "confEncrypted         2088 non-null float64\n",
      "H323Party             2089 non-null float64\n",
      "SIPParty              2089 non-null float64\n",
      "MfagetstackBT         8 non-null float64\n",
      "pstack-mfa            20 non-null float64\n",
      "CDR                   1 non-null float64\n",
      "Resource              1 non-null float64\n",
      "CertMngr              3 non-null float64\n",
      "SystemMonitorin       1 non-null float64\n",
      "Vreader               1 non-null float64\n",
      "McmsDaemon            1 non-null float64\n",
      "backtrace             1 non-null float64\n",
      "MCCFMngr              1 non-null float64\n",
      "Logger                1 non-null float64\n",
      "dtypes: float64(24), object(3)\n",
      "memory usage: 678.5+ KB\n"
     ]
    }
   ],
   "source": [
    "Input_data.info()"
   ]
  },
  {
   "cell_type": "code",
   "execution_count": 218,
   "metadata": {},
   "outputs": [],
   "source": [
    "#identify missing values"
   ]
  },
  {
   "cell_type": "code",
   "execution_count": 219,
   "metadata": {},
   "outputs": [
    {
     "data": {
      "text/plain": [
       "timeframe                2\n",
       "uuid                     1\n",
       "cpu                   1135\n",
       "memfree               1128\n",
       "totalConf             1127\n",
       "version               1128\n",
       "AVCParty              1128\n",
       "PartyJoined           1129\n",
       "ContentStarted        1128\n",
       "SVCParty              1127\n",
       "ContentRejected       1127\n",
       "totalCrash            3182\n",
       "VMSize (ConfParty)     448\n",
       "confEncrypted         1128\n",
       "H323Party             1127\n",
       "SIPParty              1127\n",
       "MfagetstackBT         3208\n",
       "pstack-mfa            3196\n",
       "CDR                   3215\n",
       "Resource              3215\n",
       "CertMngr              3213\n",
       "SystemMonitorin       3215\n",
       "Vreader               3215\n",
       "McmsDaemon            3215\n",
       "backtrace             3215\n",
       "MCCFMngr              3215\n",
       "Logger                3215\n",
       "dtype: int64"
      ]
     },
     "execution_count": 219,
     "metadata": {},
     "output_type": "execute_result"
    }
   ],
   "source": [
    "Input_data.isnull().sum()"
   ]
  },
  {
   "cell_type": "code",
   "execution_count": 220,
   "metadata": {},
   "outputs": [
    {
     "data": {
      "text/plain": [
       "<matplotlib.axes._subplots.AxesSubplot at 0x18ad2240>"
      ]
     },
     "execution_count": 220,
     "metadata": {},
     "output_type": "execute_result"
    },
    {
     "data": {
      "image/png": "[encoded data removed]",
      "text/plain": [
       "<Figure size 432x288 with 1 Axes>"
      ]
     },
     "metadata": {
      "needs_background": "light"
     },
     "output_type": "display_data"
    }
   ],
   "source": [
    "sns.heatmap(Input_data.isnull(),yticklabels=False,cbar=False,cmap='viridis')"
   ]
  },
  {
   "cell_type": "code",
   "execution_count": 221,
   "metadata": {},
   "outputs": [],
   "source": [
    "#handle missing values\n",
    "#drop columns which are not relevant for analysis like timeframe,uuid "
   ]
  },
  {
   "cell_type": "code",
   "execution_count": 222,
   "metadata": {},
   "outputs": [],
   "source": [
    "Input_data.drop(['VMSize (ConfParty)','timeframe','uuid'],axis=1,inplace=True)"
   ]
  },
  {
   "cell_type": "code",
   "execution_count": 223,
   "metadata": {},
   "outputs": [],
   "source": [
    "#again check null values"
   ]
  },
  {
   "cell_type": "code",
   "execution_count": 224,
   "metadata": {},
   "outputs": [
    {
     "data": {
      "text/plain": [
       "cpu                1135\n",
       "memfree            1128\n",
       "totalConf          1127\n",
       "version            1128\n",
       "AVCParty           1128\n",
       "PartyJoined        1129\n",
       "ContentStarted     1128\n",
       "SVCParty           1127\n",
       "ContentRejected    1127\n",
       "totalCrash         3182\n",
       "confEncrypted      1128\n",
       "H323Party          1127\n",
       "SIPParty           1127\n",
       "MfagetstackBT      3208\n",
       "pstack-mfa         3196\n",
       "CDR                3215\n",
       "Resource           3215\n",
       "CertMngr           3213\n",
       "SystemMonitorin    3215\n",
       "Vreader            3215\n",
       "McmsDaemon         3215\n",
       "backtrace          3215\n",
       "MCCFMngr           3215\n",
       "Logger             3215\n",
       "dtype: int64"
      ]
     },
     "execution_count": 224,
     "metadata": {},
     "output_type": "execute_result"
    }
   ],
   "source": [
    "Input_data.isnull().sum()"
   ]
  },
  {
   "cell_type": "code",
   "execution_count": 225,
   "metadata": {},
   "outputs": [],
   "source": [
    "#drop columns where version has null values"
   ]
  },
  {
   "cell_type": "code",
   "execution_count": 226,
   "metadata": {},
   "outputs": [],
   "source": [
    "Input_data.dropna(subset = ['version'],inplace=True)"
   ]
  },
  {
   "cell_type": "code",
   "execution_count": 227,
   "metadata": {},
   "outputs": [],
   "source": [
    "#again check nulls"
   ]
  },
  {
   "cell_type": "code",
   "execution_count": 228,
   "metadata": {},
   "outputs": [
    {
     "data": {
      "text/plain": [
       "cpu                   7\n",
       "memfree               0\n",
       "totalConf             0\n",
       "version               0\n",
       "AVCParty              0\n",
       "PartyJoined           2\n",
       "ContentStarted        1\n",
       "SVCParty              0\n",
       "ContentRejected       0\n",
       "totalCrash         2054\n",
       "confEncrypted         1\n",
       "H323Party             0\n",
       "SIPParty              0\n",
       "MfagetstackBT      2080\n",
       "pstack-mfa         2068\n",
       "CDR                2087\n",
       "Resource           2087\n",
       "CertMngr           2085\n",
       "SystemMonitorin    2087\n",
       "Vreader            2087\n",
       "McmsDaemon         2087\n",
       "backtrace          2087\n",
       "MCCFMngr           2087\n",
       "Logger             2087\n",
       "dtype: int64"
      ]
     },
     "execution_count": 228,
     "metadata": {},
     "output_type": "execute_result"
    }
   ],
   "source": [
    "Input_data.isnull().sum()"
   ]
  },
  {
   "cell_type": "code",
   "execution_count": 229,
   "metadata": {},
   "outputs": [],
   "source": [
    "#fill mean cpu in null cpu values"
   ]
  },
  {
   "cell_type": "code",
   "execution_count": 230,
   "metadata": {},
   "outputs": [],
   "source": [
    "Input_data['cpu'].fillna(value=Input_data['cpu'].mean(),inplace=True)"
   ]
  },
  {
   "cell_type": "code",
   "execution_count": 231,
   "metadata": {},
   "outputs": [],
   "source": [
    "#again check nulls"
   ]
  },
  {
   "cell_type": "code",
   "execution_count": 232,
   "metadata": {},
   "outputs": [
    {
     "data": {
      "text/plain": [
       "cpu                   0\n",
       "memfree               0\n",
       "totalConf             0\n",
       "version               0\n",
       "AVCParty              0\n",
       "PartyJoined           2\n",
       "ContentStarted        1\n",
       "SVCParty              0\n",
       "ContentRejected       0\n",
       "totalCrash         2054\n",
       "confEncrypted         1\n",
       "H323Party             0\n",
       "SIPParty              0\n",
       "MfagetstackBT      2080\n",
       "pstack-mfa         2068\n",
       "CDR                2087\n",
       "Resource           2087\n",
       "CertMngr           2085\n",
       "SystemMonitorin    2087\n",
       "Vreader            2087\n",
       "McmsDaemon         2087\n",
       "backtrace          2087\n",
       "MCCFMngr           2087\n",
       "Logger             2087\n",
       "dtype: int64"
      ]
     },
     "execution_count": 232,
     "metadata": {},
     "output_type": "execute_result"
    }
   ],
   "source": [
    "Input_data.isnull().sum()"
   ]
  },
  {
   "cell_type": "code",
   "execution_count": 233,
   "metadata": {},
   "outputs": [],
   "source": [
    "#fill all nulls with zero"
   ]
  },
  {
   "cell_type": "code",
   "execution_count": 234,
   "metadata": {},
   "outputs": [],
   "source": [
    "Input_data.fillna(value=0,inplace=True)"
   ]
  },
  {
   "cell_type": "code",
   "execution_count": 235,
   "metadata": {},
   "outputs": [],
   "source": [
    "#again check if nulls are there"
   ]
  },
  {
   "cell_type": "code",
   "execution_count": 236,
   "metadata": {},
   "outputs": [
    {
     "data": {
      "text/plain": [
       "cpu                0\n",
       "memfree            0\n",
       "totalConf          0\n",
       "version            0\n",
       "AVCParty           0\n",
       "PartyJoined        0\n",
       "ContentStarted     0\n",
       "SVCParty           0\n",
       "ContentRejected    0\n",
       "totalCrash         0\n",
       "confEncrypted      0\n",
       "H323Party          0\n",
       "SIPParty           0\n",
       "MfagetstackBT      0\n",
       "pstack-mfa         0\n",
       "CDR                0\n",
       "Resource           0\n",
       "CertMngr           0\n",
       "SystemMonitorin    0\n",
       "Vreader            0\n",
       "McmsDaemon         0\n",
       "backtrace          0\n",
       "MCCFMngr           0\n",
       "Logger             0\n",
       "dtype: int64"
      ]
     },
     "execution_count": 236,
     "metadata": {},
     "output_type": "execute_result"
    }
   ],
   "source": [
    "Input_data.isnull().sum()"
   ]
  },
  {
   "cell_type": "code",
   "execution_count": 237,
   "metadata": {},
   "outputs": [],
   "source": [
    "#check data types of columns"
   ]
  },
  {
   "cell_type": "code",
   "execution_count": 238,
   "metadata": {},
   "outputs": [
    {
     "data": {
      "text/plain": [
       "cpu                float64\n",
       "memfree            float64\n",
       "totalConf          float64\n",
       "version             object\n",
       "AVCParty           float64\n",
       "PartyJoined        float64\n",
       "ContentStarted     float64\n",
       "SVCParty           float64\n",
       "ContentRejected    float64\n",
       "totalCrash         float64\n",
       "confEncrypted      float64\n",
       "H323Party          float64\n",
       "SIPParty           float64\n",
       "MfagetstackBT      float64\n",
       "pstack-mfa         float64\n",
       "CDR                float64\n",
       "Resource           float64\n",
       "CertMngr           float64\n",
       "SystemMonitorin    float64\n",
       "Vreader            float64\n",
       "McmsDaemon         float64\n",
       "backtrace          float64\n",
       "MCCFMngr           float64\n",
       "Logger             float64\n",
       "dtype: object"
      ]
     },
     "execution_count": 238,
     "metadata": {},
     "output_type": "execute_result"
    }
   ],
   "source": [
    "Input_data.dtypes"
   ]
  },
  {
   "cell_type": "code",
   "execution_count": 241,
   "metadata": {},
   "outputs": [
    {
     "data": {
      "text/plain": [
       "8.7.5.709           412\n",
       "8.7.5.775           214\n",
       "8.7.5.773           196\n",
       "8.8.0.424           164\n",
       "8.7.5.746           160\n",
       "8.8.0.440           159\n",
       "8.8.1.69            144\n",
       "8.8.0.432_2986.2    143\n",
       "8.7.5.774           126\n",
       "8.8.0.427            90\n",
       "8.8.1.49             65\n",
       "8.8.0.436            56\n",
       "8.7.5.776            32\n",
       "8.8.0.432_2986.1     29\n",
       "8.8.1.71             27\n",
       "8.8.0.435            24\n",
       "8.8.1.81             17\n",
       "8.7.5.765            16\n",
       "8.8.0.441             5\n",
       "8.8.1.10              4\n",
       "8.8.1.51              3\n",
       "8.8.0.415             1\n",
       "8.8.1.29              1\n",
       "Name: version, dtype: int64"
      ]
     },
     "execution_count": 241,
     "metadata": {},
     "output_type": "execute_result"
    }
   ],
   "source": [
    "Input_data.version.value_counts(sort=True)"
   ]
  },
  {
   "cell_type": "code",
   "execution_count": 240,
   "metadata": {},
   "outputs": [
    {
     "data": {
      "text/plain": [
       "<matplotlib.axes._subplots.AxesSubplot at 0x172d24e0>"
      ]
     },
     "execution_count": 240,
     "metadata": {},
     "output_type": "execute_result"
    },
    {
     "data": {
      "image/png": "[encoded data removed]",
      "text/plain": [
       "<Figure size 1800x360 with 1 Axes>"
      ]
     },
     "metadata": {
      "needs_background": "light"
     },
     "output_type": "display_data"
    }
   ],
   "source": [
    "plt.figure(figsize=(25,5))\n",
    "sns.countplot(x='version',data=Input_data)"
   ]
  },
  {
   "cell_type": "code",
   "execution_count": 273,
   "metadata": {},
   "outputs": [
    {
     "data": {
      "text/plain": [
       "version\n",
       "8.7.5.709            5.0\n",
       "8.7.5.773            6.0\n",
       "8.7.5.774            5.0\n",
       "8.7.5.775            3.0\n",
       "8.7.5.776            5.0\n",
       "8.8.0.427           14.0\n",
       "8.8.0.432_2986.2     1.0\n",
       "8.8.0.436            6.0\n",
       "8.8.0.440            2.0\n",
       "8.8.0.441            1.0\n",
       "8.8.1.10             4.0\n",
       "8.8.1.29            10.0\n",
       "8.8.1.51             1.0\n",
       "8.8.1.69             7.0\n",
       "8.8.1.81             2.0\n",
       "Name: totalCrash, dtype: float64"
      ]
     },
     "execution_count": 273,
     "metadata": {},
     "output_type": "execute_result"
    }
   ],
   "source": [
    "Input_data[Input_data['totalCrash'] > 0].groupby('version').totalCrash.sum()"
   ]
  },
  {
   "cell_type": "code",
   "execution_count": 270,
   "metadata": {},
   "outputs": [
    {
     "data": {
      "text/plain": [
       "version           totalCrash\n",
       "8.7.5.709         1.0           3\n",
       "                  2.0           1\n",
       "8.7.5.773         1.0           2\n",
       "                  2.0           2\n",
       "8.7.5.774         1.0           1\n",
       "                  4.0           1\n",
       "8.7.5.775         1.0           3\n",
       "8.7.5.776         1.0           3\n",
       "                  2.0           1\n",
       "8.8.0.427         1.0           2\n",
       "                  2.0           1\n",
       "                  3.0           1\n",
       "                  7.0           1\n",
       "8.8.0.432_2986.2  1.0           1\n",
       "8.8.0.436         6.0           1\n",
       "8.8.0.440         2.0           1\n",
       "8.8.0.441         1.0           1\n",
       "8.8.1.10          4.0           1\n",
       "8.8.1.29          10.0          1\n",
       "8.8.1.51          1.0           1\n",
       "8.8.1.69          2.0           3\n",
       "                  1.0           1\n",
       "8.8.1.81          2.0           1\n",
       "Name: totalCrash, dtype: int64"
      ]
     },
     "execution_count": 270,
     "metadata": {},
     "output_type": "execute_result"
    }
   ],
   "source": [
    "Input_data[Input_data['totalCrash'] > 0].groupby('version').totalCrash.value_counts(sort=True)"
   ]
  },
  {
   "cell_type": "code",
   "execution_count": 276,
   "metadata": {},
   "outputs": [
    {
     "data": {
      "image/png": "[encoded data removed]",
      "text/plain": [
       "<Figure size 1800x576 with 1 Axes>"
      ]
     },
     "metadata": {},
     "output_type": "display_data"
    }
   ],
   "source": [
    "plt.figure(figsize=(25,8))\n",
    "sns.barplot(x=\"version\", y=\"totalCrash\", data=(Input_data[Input_data['totalCrash'] > 0]), ci=None);"
   ]
  },
  {
   "cell_type": "code",
   "execution_count": null,
   "metadata": {},
   "outputs": [],
   "source": []
  },
  {
   "cell_type": "code",
   "execution_count": null,
   "metadata": {},
   "outputs": [],
   "source": []
  },
  {
   "cell_type": "code",
   "execution_count": null,
   "metadata": {},
   "outputs": [],
   "source": []
  },
  {
   "cell_type": "code",
   "execution_count": null,
   "metadata": {},
   "outputs": [],
   "source": []
  },
  {
   "cell_type": "code",
   "execution_count": 277,
   "metadata": {},
   "outputs": [],
   "source": [
    "#drop version column"
   ]
  },
  {
   "cell_type": "code",
   "execution_count": 278,
   "metadata": {},
   "outputs": [],
   "source": [
    "Input_data.drop(['version'],axis=1,inplace=True)"
   ]
  },
  {
   "cell_type": "code",
   "execution_count": 279,
   "metadata": {},
   "outputs": [],
   "source": [
    "#Check columns"
   ]
  },
  {
   "cell_type": "code",
   "execution_count": 280,
   "metadata": {},
   "outputs": [
    {
     "data": {
      "text/plain": [
       "Index(['cpu', 'memfree', 'totalConf', 'AVCParty', 'PartyJoined',\n",
       "       'ContentStarted', 'SVCParty', 'ContentRejected', 'totalCrash',\n",
       "       'confEncrypted', 'H323Party', 'SIPParty', 'MfagetstackBT', 'pstack-mfa',\n",
       "       'CDR', 'Resource', 'CertMngr', 'SystemMonitorin', 'Vreader',\n",
       "       'McmsDaemon', 'backtrace', 'MCCFMngr', 'Logger'],\n",
       "      dtype='object')"
      ]
     },
     "execution_count": 280,
     "metadata": {},
     "output_type": "execute_result"
    }
   ],
   "source": [
    "Input_data.columns"
   ]
  },
  {
   "cell_type": "code",
   "execution_count": 281,
   "metadata": {},
   "outputs": [],
   "source": [
    "#normalized columns"
   ]
  },
  {
   "cell_type": "code",
   "execution_count": 282,
   "metadata": {},
   "outputs": [],
   "source": [
    "from sklearn import preprocessing"
   ]
  },
  {
   "cell_type": "code",
   "execution_count": 283,
   "metadata": {},
   "outputs": [],
   "source": [
    "normalized_data = pd.DataFrame(preprocessing.normalize(Input_data),columns=['cpu', 'memfree', 'totalConf', 'AVCParty', 'PartyJoined',\n",
    "       'ContentStarted', 'SVCParty', 'ContentRejected', 'totalCrash',\n",
    "       'confEncrypted', 'H323Party', 'SIPParty', 'MfagetstackBT', 'pstack-mfa',\n",
    "       'CDR', 'Resource', 'CertMngr', 'SystemMonitorin', 'Vreader',\n",
    "       'McmsDaemon', 'backtrace', 'MCCFMngr', 'Logger'])"
   ]
  },
  {
   "cell_type": "code",
   "execution_count": 284,
   "metadata": {},
   "outputs": [
    {
     "data": {
      "text/plain": [
       "Index(['cpu', 'memfree', 'totalConf', 'AVCParty', 'PartyJoined',\n",
       "       'ContentStarted', 'SVCParty', 'ContentRejected', 'totalCrash',\n",
       "       'confEncrypted', 'H323Party', 'SIPParty', 'MfagetstackBT', 'pstack-mfa',\n",
       "       'CDR', 'Resource', 'CertMngr', 'SystemMonitorin', 'Vreader',\n",
       "       'McmsDaemon', 'backtrace', 'MCCFMngr', 'Logger'],\n",
       "      dtype='object')"
      ]
     },
     "execution_count": 284,
     "metadata": {},
     "output_type": "execute_result"
    }
   ],
   "source": [
    "normalized_data.columns"
   ]
  },
  {
   "cell_type": "code",
   "execution_count": 285,
   "metadata": {},
   "outputs": [
    {
     "data": {
      "text/plain": [
       "<bound method NDFrame.head of            cpu   memfree     totalConf      AVCParty   PartyJoined  \\\n",
       "0     0.000025  1.000000  0.000000e+00  0.000000e+00  0.000000e+00   \n",
       "1     0.000431  1.000000  0.000000e+00  0.000000e+00  0.000000e+00   \n",
       "2     0.000659  1.000000  0.000000e+00  0.000000e+00  0.000000e+00   \n",
       "3     0.000030  1.000000  0.000000e+00  0.000000e+00  0.000000e+00   \n",
       "4     0.000018  1.000000  0.000000e+00  0.000000e+00  0.000000e+00   \n",
       "5     0.000024  1.000000  0.000000e+00  0.000000e+00  0.000000e+00   \n",
       "6     0.000323  1.000000  0.000000e+00  0.000000e+00  0.000000e+00   \n",
       "7     0.000059  1.000000  0.000000e+00  0.000000e+00  0.000000e+00   \n",
       "8     0.000067  0.999954  3.364761e-04  6.748267e-03  6.748267e-03   \n",
       "9     0.000177  1.000000  0.000000e+00  0.000000e+00  0.000000e+00   \n",
       "10    0.000029  0.999920  3.009495e-04  6.597218e-03  6.596372e-03   \n",
       "11    0.000822  1.000000  0.000000e+00  0.000000e+00  0.000000e+00   \n",
       "12    0.000069  1.000000  0.000000e+00  0.000000e+00  0.000000e+00   \n",
       "13    0.000092  1.000000  0.000000e+00  0.000000e+00  0.000000e+00   \n",
       "14    0.000025  1.000000  0.000000e+00  0.000000e+00  0.000000e+00   \n",
       "15    0.000430  1.000000  0.000000e+00  0.000000e+00  0.000000e+00   \n",
       "16    0.000640  1.000000  0.000000e+00  0.000000e+00  0.000000e+00   \n",
       "17    0.000030  1.000000  0.000000e+00  0.000000e+00  0.000000e+00   \n",
       "18    0.000018  1.000000  0.000000e+00  0.000000e+00  0.000000e+00   \n",
       "19    0.000059  1.000000  0.000000e+00  0.000000e+00  0.000000e+00   \n",
       "20    0.000066  0.999958  3.255357e-04  6.511635e-03  6.511635e-03   \n",
       "21    0.000184  1.000000  0.000000e+00  0.000000e+00  0.000000e+00   \n",
       "22    0.000029  0.999923  2.985762e-04  6.453204e-03  6.450730e-03   \n",
       "23    0.000829  1.000000  0.000000e+00  0.000000e+00  0.000000e+00   \n",
       "24    0.000092  1.000000  0.000000e+00  0.000000e+00  0.000000e+00   \n",
       "25    0.000025  1.000000  0.000000e+00  0.000000e+00  0.000000e+00   \n",
       "26    0.000431  1.000000  0.000000e+00  0.000000e+00  0.000000e+00   \n",
       "27    0.000601  1.000000  0.000000e+00  5.107512e-05  5.107512e-05   \n",
       "28    0.000030  1.000000  0.000000e+00  0.000000e+00  0.000000e+00   \n",
       "29    0.000018  1.000000  0.000000e+00  0.000000e+00  0.000000e+00   \n",
       "...        ...       ...           ...           ...           ...   \n",
       "2058  0.000000  1.000000  5.952853e-06  6.481996e-05  6.680424e-05   \n",
       "2059  0.000002  1.000000  0.000000e+00  0.000000e+00  0.000000e+00   \n",
       "2060  0.000417  1.000000  4.233341e-06  8.466683e-06  8.466683e-06   \n",
       "2061  0.000042  1.000000  1.149379e-05  1.555494e-04  1.555494e-04   \n",
       "2062  0.000045  1.000000  0.000000e+00  0.000000e+00  0.000000e+00   \n",
       "2063  0.000013  1.000000  1.353587e-07  2.707173e-07  2.707173e-07   \n",
       "2064  0.000015  1.000000  0.000000e+00  0.000000e+00  0.000000e+00   \n",
       "2065  0.000040  1.000000  0.000000e+00  0.000000e+00  0.000000e+00   \n",
       "2066  0.000000  0.997896  2.284549e-03  4.581650e-02  4.581650e-02   \n",
       "2067  0.000110  0.999588  7.201291e-04  1.435820e-02  1.434207e-02   \n",
       "2068  0.000000  1.000000  3.956335e-07  7.912669e-06  7.912669e-06   \n",
       "2069  0.000002  1.000000  0.000000e+00  0.000000e+00  0.000000e+00   \n",
       "2070  0.000418  1.000000  0.000000e+00  0.000000e+00  0.000000e+00   \n",
       "2071  0.000046  1.000000  0.000000e+00  0.000000e+00  0.000000e+00   \n",
       "2072  0.000015  1.000000  0.000000e+00  0.000000e+00  0.000000e+00   \n",
       "2073  0.000040  1.000000  0.000000e+00  0.000000e+00  0.000000e+00   \n",
       "2074  0.000536  0.991214  4.673350e-03  9.346700e-02  9.346700e-02   \n",
       "2075  0.000101  0.999551  7.623596e-04  1.497507e-02  1.497507e-02   \n",
       "2076  0.000043  1.000000  3.970446e-06  1.544062e-05  1.544062e-05   \n",
       "2077  0.000580  1.000000  0.000000e+00  0.000000e+00  0.000000e+00   \n",
       "2078  0.000016  1.000000  0.000000e+00  0.000000e+00  0.000000e+00   \n",
       "2079  0.000015  1.000000  0.000000e+00  0.000000e+00  0.000000e+00   \n",
       "2080  0.000729  0.963796  9.421230e-03  1.884246e-01  1.884246e-01   \n",
       "2081  0.000562  1.000000  0.000000e+00  0.000000e+00  0.000000e+00   \n",
       "2082  0.000002  1.000000  0.000000e+00  0.000000e+00  0.000000e+00   \n",
       "2083  0.000013  1.000000  1.403975e-07  2.807949e-07  2.807949e-07   \n",
       "2084  0.000015  1.000000  0.000000e+00  0.000000e+00  0.000000e+00   \n",
       "2085  0.000040  1.000000  0.000000e+00  0.000000e+00  0.000000e+00   \n",
       "2086  0.000096  0.999676  6.459367e-04  1.271522e-02  1.271522e-02   \n",
       "2087  0.000054  1.000000  2.200094e-06  1.540066e-05  1.540066e-05   \n",
       "\n",
       "      ContentStarted  SVCParty  ContentRejected    totalCrash  confEncrypted  \\\n",
       "0           0.000000       0.0              0.0  0.000000e+00   0.000000e+00   \n",
       "1           0.000000       0.0              0.0  0.000000e+00   0.000000e+00   \n",
       "2           0.000000       0.0              0.0  0.000000e+00   0.000000e+00   \n",
       "3           0.000000       0.0              0.0  0.000000e+00   0.000000e+00   \n",
       "4           0.000000       0.0              0.0  0.000000e+00   0.000000e+00   \n",
       "5           0.000000       0.0              0.0  0.000000e+00   0.000000e+00   \n",
       "6           0.000000       0.0              0.0  0.000000e+00   0.000000e+00   \n",
       "7           0.000000       0.0              0.0  0.000000e+00   0.000000e+00   \n",
       "8           0.000000       0.0              0.0  0.000000e+00   0.000000e+00   \n",
       "9           0.000000       0.0              0.0  0.000000e+00   0.000000e+00   \n",
       "10          0.000000       0.0              0.0  0.000000e+00   0.000000e+00   \n",
       "11          0.000000       0.0              0.0  0.000000e+00   0.000000e+00   \n",
       "12          0.000000       0.0              0.0  0.000000e+00   0.000000e+00   \n",
       "13          0.000000       0.0              0.0  0.000000e+00   0.000000e+00   \n",
       "14          0.000000       0.0              0.0  0.000000e+00   0.000000e+00   \n",
       "15          0.000000       0.0              0.0  0.000000e+00   0.000000e+00   \n",
       "16          0.000000       0.0              0.0  0.000000e+00   0.000000e+00   \n",
       "17          0.000000       0.0              0.0  0.000000e+00   0.000000e+00   \n",
       "18          0.000000       0.0              0.0  0.000000e+00   0.000000e+00   \n",
       "19          0.000000       0.0              0.0  0.000000e+00   0.000000e+00   \n",
       "20          0.000000       0.0              0.0  0.000000e+00   0.000000e+00   \n",
       "21          0.000000       0.0              0.0  0.000000e+00   0.000000e+00   \n",
       "22          0.000000       0.0              0.0  0.000000e+00   0.000000e+00   \n",
       "23          0.000000       0.0              0.0  0.000000e+00   0.000000e+00   \n",
       "24          0.000000       0.0              0.0  0.000000e+00   0.000000e+00   \n",
       "25          0.000000       0.0              0.0  0.000000e+00   0.000000e+00   \n",
       "26          0.000000       0.0              0.0  0.000000e+00   0.000000e+00   \n",
       "27          0.000000       0.0              0.0  0.000000e+00   0.000000e+00   \n",
       "28          0.000000       0.0              0.0  0.000000e+00   0.000000e+00   \n",
       "29          0.000000       0.0              0.0  0.000000e+00   0.000000e+00   \n",
       "...              ...       ...              ...           ...            ...   \n",
       "2058        0.000002       0.0              0.0  0.000000e+00   6.614282e-07   \n",
       "2059        0.000000       0.0              0.0  0.000000e+00   0.000000e+00   \n",
       "2060        0.000000       0.0              0.0  0.000000e+00   4.233341e-06   \n",
       "2061        0.000000       0.0              0.0  0.000000e+00   1.149379e-05   \n",
       "2062        0.000000       0.0              0.0  0.000000e+00   0.000000e+00   \n",
       "2063        0.000000       0.0              0.0  0.000000e+00   0.000000e+00   \n",
       "2064        0.000000       0.0              0.0  0.000000e+00   0.000000e+00   \n",
       "2065        0.000000       0.0              0.0  0.000000e+00   0.000000e+00   \n",
       "2066        0.000000       0.0              0.0  0.000000e+00   0.000000e+00   \n",
       "2067        0.000000       0.0              0.0  0.000000e+00   0.000000e+00   \n",
       "2068        0.000001       0.0              0.0  3.956335e-07   3.956335e-07   \n",
       "2069        0.000000       0.0              0.0  0.000000e+00   0.000000e+00   \n",
       "2070        0.000000       0.0              0.0  0.000000e+00   0.000000e+00   \n",
       "2071        0.000000       0.0              0.0  0.000000e+00   0.000000e+00   \n",
       "2072        0.000000       0.0              0.0  0.000000e+00   0.000000e+00   \n",
       "2073        0.000000       0.0              0.0  0.000000e+00   0.000000e+00   \n",
       "2074        0.000000       0.0              0.0  0.000000e+00   0.000000e+00   \n",
       "2075        0.000000       0.0              0.0  0.000000e+00   0.000000e+00   \n",
       "2076        0.000000       0.0              0.0  0.000000e+00   4.411606e-07   \n",
       "2077        0.000000       0.0              0.0  0.000000e+00   0.000000e+00   \n",
       "2078        0.000000       0.0              0.0  3.770352e-07   0.000000e+00   \n",
       "2079        0.000000       0.0              0.0  0.000000e+00   0.000000e+00   \n",
       "2080        0.000000       0.0              0.0  0.000000e+00   0.000000e+00   \n",
       "2081        0.000000       0.0              0.0  0.000000e+00   0.000000e+00   \n",
       "2082        0.000000       0.0              0.0  0.000000e+00   0.000000e+00   \n",
       "2083        0.000000       0.0              0.0  1.403975e-07   0.000000e+00   \n",
       "2084        0.000000       0.0              0.0  0.000000e+00   0.000000e+00   \n",
       "2085        0.000000       0.0              0.0  0.000000e+00   0.000000e+00   \n",
       "2086        0.000000       0.0              0.0  0.000000e+00   0.000000e+00   \n",
       "2087        0.000005       0.0              0.0  0.000000e+00   5.500235e-07   \n",
       "\n",
       "       ...      pstack-mfa  CDR  Resource  CertMngr  SystemMonitorin  Vreader  \\\n",
       "0      ...    0.000000e+00  0.0       0.0       0.0              0.0      0.0   \n",
       "1      ...    0.000000e+00  0.0       0.0       0.0              0.0      0.0   \n",
       "2      ...    0.000000e+00  0.0       0.0       0.0              0.0      0.0   \n",
       "3      ...    0.000000e+00  0.0       0.0       0.0              0.0      0.0   \n",
       "4      ...    0.000000e+00  0.0       0.0       0.0              0.0      0.0   \n",
       "5      ...    0.000000e+00  0.0       0.0       0.0              0.0      0.0   \n",
       "6      ...    0.000000e+00  0.0       0.0       0.0              0.0      0.0   \n",
       "7      ...    0.000000e+00  0.0       0.0       0.0              0.0      0.0   \n",
       "8      ...    0.000000e+00  0.0       0.0       0.0              0.0      0.0   \n",
       "9      ...    0.000000e+00  0.0       0.0       0.0              0.0      0.0   \n",
       "10     ...    0.000000e+00  0.0       0.0       0.0              0.0      0.0   \n",
       "11     ...    0.000000e+00  0.0       0.0       0.0              0.0      0.0   \n",
       "12     ...    0.000000e+00  0.0       0.0       0.0              0.0      0.0   \n",
       "13     ...    0.000000e+00  0.0       0.0       0.0              0.0      0.0   \n",
       "14     ...    0.000000e+00  0.0       0.0       0.0              0.0      0.0   \n",
       "15     ...    0.000000e+00  0.0       0.0       0.0              0.0      0.0   \n",
       "16     ...    0.000000e+00  0.0       0.0       0.0              0.0      0.0   \n",
       "17     ...    0.000000e+00  0.0       0.0       0.0              0.0      0.0   \n",
       "18     ...    0.000000e+00  0.0       0.0       0.0              0.0      0.0   \n",
       "19     ...    0.000000e+00  0.0       0.0       0.0              0.0      0.0   \n",
       "20     ...    0.000000e+00  0.0       0.0       0.0              0.0      0.0   \n",
       "21     ...    0.000000e+00  0.0       0.0       0.0              0.0      0.0   \n",
       "22     ...    0.000000e+00  0.0       0.0       0.0              0.0      0.0   \n",
       "23     ...    0.000000e+00  0.0       0.0       0.0              0.0      0.0   \n",
       "24     ...    0.000000e+00  0.0       0.0       0.0              0.0      0.0   \n",
       "25     ...    0.000000e+00  0.0       0.0       0.0              0.0      0.0   \n",
       "26     ...    0.000000e+00  0.0       0.0       0.0              0.0      0.0   \n",
       "27     ...    0.000000e+00  0.0       0.0       0.0              0.0      0.0   \n",
       "28     ...    0.000000e+00  0.0       0.0       0.0              0.0      0.0   \n",
       "29     ...    0.000000e+00  0.0       0.0       0.0              0.0      0.0   \n",
       "...    ...             ...  ...       ...       ...              ...      ...   \n",
       "2058   ...    0.000000e+00  0.0       0.0       0.0              0.0      0.0   \n",
       "2059   ...    0.000000e+00  0.0       0.0       0.0              0.0      0.0   \n",
       "2060   ...    0.000000e+00  0.0       0.0       0.0              0.0      0.0   \n",
       "2061   ...    0.000000e+00  0.0       0.0       0.0              0.0      0.0   \n",
       "2062   ...    0.000000e+00  0.0       0.0       0.0              0.0      0.0   \n",
       "2063   ...    0.000000e+00  0.0       0.0       0.0              0.0      0.0   \n",
       "2064   ...    0.000000e+00  0.0       0.0       0.0              0.0      0.0   \n",
       "2065   ...    0.000000e+00  0.0       0.0       0.0              0.0      0.0   \n",
       "2066   ...    0.000000e+00  0.0       0.0       0.0              0.0      0.0   \n",
       "2067   ...    0.000000e+00  0.0       0.0       0.0              0.0      0.0   \n",
       "2068   ...    3.956335e-07  0.0       0.0       0.0              0.0      0.0   \n",
       "2069   ...    0.000000e+00  0.0       0.0       0.0              0.0      0.0   \n",
       "2070   ...    0.000000e+00  0.0       0.0       0.0              0.0      0.0   \n",
       "2071   ...    0.000000e+00  0.0       0.0       0.0              0.0      0.0   \n",
       "2072   ...    0.000000e+00  0.0       0.0       0.0              0.0      0.0   \n",
       "2073   ...    0.000000e+00  0.0       0.0       0.0              0.0      0.0   \n",
       "2074   ...    0.000000e+00  0.0       0.0       0.0              0.0      0.0   \n",
       "2075   ...    0.000000e+00  0.0       0.0       0.0              0.0      0.0   \n",
       "2076   ...    0.000000e+00  0.0       0.0       0.0              0.0      0.0   \n",
       "2077   ...    0.000000e+00  0.0       0.0       0.0              0.0      0.0   \n",
       "2078   ...    3.770352e-07  0.0       0.0       0.0              0.0      0.0   \n",
       "2079   ...    0.000000e+00  0.0       0.0       0.0              0.0      0.0   \n",
       "2080   ...    0.000000e+00  0.0       0.0       0.0              0.0      0.0   \n",
       "2081   ...    0.000000e+00  0.0       0.0       0.0              0.0      0.0   \n",
       "2082   ...    0.000000e+00  0.0       0.0       0.0              0.0      0.0   \n",
       "2083   ...    1.403975e-07  0.0       0.0       0.0              0.0      0.0   \n",
       "2084   ...    0.000000e+00  0.0       0.0       0.0              0.0      0.0   \n",
       "2085   ...    0.000000e+00  0.0       0.0       0.0              0.0      0.0   \n",
       "2086   ...    0.000000e+00  0.0       0.0       0.0              0.0      0.0   \n",
       "2087   ...    0.000000e+00  0.0       0.0       0.0              0.0      0.0   \n",
       "\n",
       "      McmsDaemon  backtrace  MCCFMngr  Logger  \n",
       "0            0.0        0.0       0.0     0.0  \n",
       "1            0.0        0.0       0.0     0.0  \n",
       "2            0.0        0.0       0.0     0.0  \n",
       "3            0.0        0.0       0.0     0.0  \n",
       "4            0.0        0.0       0.0     0.0  \n",
       "5            0.0        0.0       0.0     0.0  \n",
       "6            0.0        0.0       0.0     0.0  \n",
       "7            0.0        0.0       0.0     0.0  \n",
       "8            0.0        0.0       0.0     0.0  \n",
       "9            0.0        0.0       0.0     0.0  \n",
       "10           0.0        0.0       0.0     0.0  \n",
       "11           0.0        0.0       0.0     0.0  \n",
       "12           0.0        0.0       0.0     0.0  \n",
       "13           0.0        0.0       0.0     0.0  \n",
       "14           0.0        0.0       0.0     0.0  \n",
       "15           0.0        0.0       0.0     0.0  \n",
       "16           0.0        0.0       0.0     0.0  \n",
       "17           0.0        0.0       0.0     0.0  \n",
       "18           0.0        0.0       0.0     0.0  \n",
       "19           0.0        0.0       0.0     0.0  \n",
       "20           0.0        0.0       0.0     0.0  \n",
       "21           0.0        0.0       0.0     0.0  \n",
       "22           0.0        0.0       0.0     0.0  \n",
       "23           0.0        0.0       0.0     0.0  \n",
       "24           0.0        0.0       0.0     0.0  \n",
       "25           0.0        0.0       0.0     0.0  \n",
       "26           0.0        0.0       0.0     0.0  \n",
       "27           0.0        0.0       0.0     0.0  \n",
       "28           0.0        0.0       0.0     0.0  \n",
       "29           0.0        0.0       0.0     0.0  \n",
       "...          ...        ...       ...     ...  \n",
       "2058         0.0        0.0       0.0     0.0  \n",
       "2059         0.0        0.0       0.0     0.0  \n",
       "2060         0.0        0.0       0.0     0.0  \n",
       "2061         0.0        0.0       0.0     0.0  \n",
       "2062         0.0        0.0       0.0     0.0  \n",
       "2063         0.0        0.0       0.0     0.0  \n",
       "2064         0.0        0.0       0.0     0.0  \n",
       "2065         0.0        0.0       0.0     0.0  \n",
       "2066         0.0        0.0       0.0     0.0  \n",
       "2067         0.0        0.0       0.0     0.0  \n",
       "2068         0.0        0.0       0.0     0.0  \n",
       "2069         0.0        0.0       0.0     0.0  \n",
       "2070         0.0        0.0       0.0     0.0  \n",
       "2071         0.0        0.0       0.0     0.0  \n",
       "2072         0.0        0.0       0.0     0.0  \n",
       "2073         0.0        0.0       0.0     0.0  \n",
       "2074         0.0        0.0       0.0     0.0  \n",
       "2075         0.0        0.0       0.0     0.0  \n",
       "2076         0.0        0.0       0.0     0.0  \n",
       "2077         0.0        0.0       0.0     0.0  \n",
       "2078         0.0        0.0       0.0     0.0  \n",
       "2079         0.0        0.0       0.0     0.0  \n",
       "2080         0.0        0.0       0.0     0.0  \n",
       "2081         0.0        0.0       0.0     0.0  \n",
       "2082         0.0        0.0       0.0     0.0  \n",
       "2083         0.0        0.0       0.0     0.0  \n",
       "2084         0.0        0.0       0.0     0.0  \n",
       "2085         0.0        0.0       0.0     0.0  \n",
       "2086         0.0        0.0       0.0     0.0  \n",
       "2087         0.0        0.0       0.0     0.0  \n",
       "\n",
       "[2088 rows x 23 columns]>"
      ]
     },
     "execution_count": 285,
     "metadata": {},
     "output_type": "execute_result"
    }
   ],
   "source": [
    "normalized_data.head"
   ]
  },
  {
   "cell_type": "code",
   "execution_count": 286,
   "metadata": {},
   "outputs": [],
   "source": [
    "#correlation with normalized data"
   ]
  },
  {
   "cell_type": "code",
   "execution_count": 287,
   "metadata": {},
   "outputs": [
    {
     "data": {
      "text/html": [
       "<div>\n",
       "<style scoped>\n",
       "    .dataframe tbody tr th:only-of-type {\n",
       "        vertical-align: middle;\n",
       "    }\n",
       "\n",
       "    .dataframe tbody tr th {\n",
       "        vertical-align: top;\n",
       "    }\n",
       "\n",
       "    .dataframe thead th {\n",
       "        text-align: right;\n",
       "    }\n",
       "</style>\n",
       "<table border=\"1\" class=\"dataframe\">\n",
       "  <thead>\n",
       "    <tr style=\"text-align: right;\">\n",
       "      <th></th>\n",
       "      <th>cpu</th>\n",
       "      <th>memfree</th>\n",
       "      <th>totalConf</th>\n",
       "      <th>AVCParty</th>\n",
       "      <th>PartyJoined</th>\n",
       "      <th>ContentStarted</th>\n",
       "      <th>SVCParty</th>\n",
       "      <th>ContentRejected</th>\n",
       "      <th>totalCrash</th>\n",
       "      <th>confEncrypted</th>\n",
       "      <th>...</th>\n",
       "      <th>pstack-mfa</th>\n",
       "      <th>CDR</th>\n",
       "      <th>Resource</th>\n",
       "      <th>CertMngr</th>\n",
       "      <th>SystemMonitorin</th>\n",
       "      <th>Vreader</th>\n",
       "      <th>McmsDaemon</th>\n",
       "      <th>backtrace</th>\n",
       "      <th>MCCFMngr</th>\n",
       "      <th>Logger</th>\n",
       "    </tr>\n",
       "  </thead>\n",
       "  <tbody>\n",
       "    <tr>\n",
       "      <th>cpu</th>\n",
       "      <td>1.000000</td>\n",
       "      <td>0.089578</td>\n",
       "      <td>-0.074057</td>\n",
       "      <td>-0.049704</td>\n",
       "      <td>-0.049693</td>\n",
       "      <td>0.029728</td>\n",
       "      <td>-0.001222</td>\n",
       "      <td>0.055893</td>\n",
       "      <td>0.005630</td>\n",
       "      <td>0.014470</td>\n",
       "      <td>...</td>\n",
       "      <td>-0.054001</td>\n",
       "      <td>-0.017305</td>\n",
       "      <td>-0.017305</td>\n",
       "      <td>0.024074</td>\n",
       "      <td>0.025942</td>\n",
       "      <td>-0.017503</td>\n",
       "      <td>0.033911</td>\n",
       "      <td>0.033911</td>\n",
       "      <td>0.002164</td>\n",
       "      <td>-0.014340</td>\n",
       "    </tr>\n",
       "    <tr>\n",
       "      <th>memfree</th>\n",
       "      <td>0.089578</td>\n",
       "      <td>1.000000</td>\n",
       "      <td>-0.994216</td>\n",
       "      <td>-0.970784</td>\n",
       "      <td>-0.970569</td>\n",
       "      <td>0.011299</td>\n",
       "      <td>0.005834</td>\n",
       "      <td>0.004811</td>\n",
       "      <td>0.011264</td>\n",
       "      <td>0.012769</td>\n",
       "      <td>...</td>\n",
       "      <td>0.012177</td>\n",
       "      <td>0.003849</td>\n",
       "      <td>0.003849</td>\n",
       "      <td>0.004267</td>\n",
       "      <td>0.003849</td>\n",
       "      <td>0.003849</td>\n",
       "      <td>0.003849</td>\n",
       "      <td>0.003849</td>\n",
       "      <td>0.003849</td>\n",
       "      <td>0.003849</td>\n",
       "    </tr>\n",
       "    <tr>\n",
       "      <th>totalConf</th>\n",
       "      <td>-0.074057</td>\n",
       "      <td>-0.994216</td>\n",
       "      <td>1.000000</td>\n",
       "      <td>0.989780</td>\n",
       "      <td>0.989781</td>\n",
       "      <td>-0.012772</td>\n",
       "      <td>-0.006593</td>\n",
       "      <td>-0.005443</td>\n",
       "      <td>-0.011270</td>\n",
       "      <td>-0.004860</td>\n",
       "      <td>...</td>\n",
       "      <td>-0.013730</td>\n",
       "      <td>-0.004355</td>\n",
       "      <td>-0.004355</td>\n",
       "      <td>-0.004829</td>\n",
       "      <td>-0.004355</td>\n",
       "      <td>-0.004355</td>\n",
       "      <td>-0.004355</td>\n",
       "      <td>-0.004355</td>\n",
       "      <td>-0.004355</td>\n",
       "      <td>-0.004350</td>\n",
       "    </tr>\n",
       "    <tr>\n",
       "      <th>AVCParty</th>\n",
       "      <td>-0.049704</td>\n",
       "      <td>-0.970784</td>\n",
       "      <td>0.989780</td>\n",
       "      <td>1.000000</td>\n",
       "      <td>0.999986</td>\n",
       "      <td>-0.014964</td>\n",
       "      <td>-0.007750</td>\n",
       "      <td>-0.006387</td>\n",
       "      <td>-0.011043</td>\n",
       "      <td>0.007763</td>\n",
       "      <td>...</td>\n",
       "      <td>-0.016039</td>\n",
       "      <td>-0.005112</td>\n",
       "      <td>-0.005112</td>\n",
       "      <td>-0.005668</td>\n",
       "      <td>-0.005112</td>\n",
       "      <td>-0.005112</td>\n",
       "      <td>-0.005112</td>\n",
       "      <td>-0.005112</td>\n",
       "      <td>-0.005112</td>\n",
       "      <td>-0.005099</td>\n",
       "    </tr>\n",
       "    <tr>\n",
       "      <th>PartyJoined</th>\n",
       "      <td>-0.049693</td>\n",
       "      <td>-0.970569</td>\n",
       "      <td>0.989781</td>\n",
       "      <td>0.999986</td>\n",
       "      <td>1.000000</td>\n",
       "      <td>-0.014937</td>\n",
       "      <td>-0.007531</td>\n",
       "      <td>-0.006374</td>\n",
       "      <td>-0.011059</td>\n",
       "      <td>0.007520</td>\n",
       "      <td>...</td>\n",
       "      <td>-0.016009</td>\n",
       "      <td>-0.005102</td>\n",
       "      <td>-0.005102</td>\n",
       "      <td>-0.005657</td>\n",
       "      <td>-0.005102</td>\n",
       "      <td>-0.005102</td>\n",
       "      <td>-0.005102</td>\n",
       "      <td>-0.005102</td>\n",
       "      <td>-0.005102</td>\n",
       "      <td>-0.005089</td>\n",
       "    </tr>\n",
       "    <tr>\n",
       "      <th>ContentStarted</th>\n",
       "      <td>0.029728</td>\n",
       "      <td>0.011299</td>\n",
       "      <td>-0.012772</td>\n",
       "      <td>-0.014964</td>\n",
       "      <td>-0.014937</td>\n",
       "      <td>1.000000</td>\n",
       "      <td>-0.001987</td>\n",
       "      <td>0.284494</td>\n",
       "      <td>-0.003379</td>\n",
       "      <td>-0.003542</td>\n",
       "      <td>...</td>\n",
       "      <td>-0.001895</td>\n",
       "      <td>-0.001407</td>\n",
       "      <td>-0.001407</td>\n",
       "      <td>-0.001560</td>\n",
       "      <td>-0.001407</td>\n",
       "      <td>-0.001407</td>\n",
       "      <td>-0.001407</td>\n",
       "      <td>-0.001407</td>\n",
       "      <td>-0.001407</td>\n",
       "      <td>-0.001407</td>\n",
       "    </tr>\n",
       "    <tr>\n",
       "      <th>SVCParty</th>\n",
       "      <td>-0.001222</td>\n",
       "      <td>0.005834</td>\n",
       "      <td>-0.006593</td>\n",
       "      <td>-0.007750</td>\n",
       "      <td>-0.007531</td>\n",
       "      <td>-0.001987</td>\n",
       "      <td>1.000000</td>\n",
       "      <td>-0.000908</td>\n",
       "      <td>-0.002157</td>\n",
       "      <td>-0.002503</td>\n",
       "      <td>...</td>\n",
       "      <td>-0.002298</td>\n",
       "      <td>-0.000726</td>\n",
       "      <td>-0.000726</td>\n",
       "      <td>-0.000805</td>\n",
       "      <td>-0.000726</td>\n",
       "      <td>-0.000726</td>\n",
       "      <td>-0.000726</td>\n",
       "      <td>-0.000726</td>\n",
       "      <td>-0.000726</td>\n",
       "      <td>-0.000726</td>\n",
       "    </tr>\n",
       "    <tr>\n",
       "      <th>ContentRejected</th>\n",
       "      <td>0.055893</td>\n",
       "      <td>0.004811</td>\n",
       "      <td>-0.005443</td>\n",
       "      <td>-0.006387</td>\n",
       "      <td>-0.006374</td>\n",
       "      <td>0.284494</td>\n",
       "      <td>-0.000908</td>\n",
       "      <td>1.000000</td>\n",
       "      <td>-0.001778</td>\n",
       "      <td>-0.002013</td>\n",
       "      <td>...</td>\n",
       "      <td>-0.001895</td>\n",
       "      <td>-0.000599</td>\n",
       "      <td>-0.000599</td>\n",
       "      <td>-0.000664</td>\n",
       "      <td>-0.000599</td>\n",
       "      <td>-0.000599</td>\n",
       "      <td>-0.000599</td>\n",
       "      <td>-0.000599</td>\n",
       "      <td>-0.000599</td>\n",
       "      <td>-0.000599</td>\n",
       "    </tr>\n",
       "    <tr>\n",
       "      <th>totalCrash</th>\n",
       "      <td>0.005630</td>\n",
       "      <td>0.011264</td>\n",
       "      <td>-0.011270</td>\n",
       "      <td>-0.011043</td>\n",
       "      <td>-0.011059</td>\n",
       "      <td>-0.003379</td>\n",
       "      <td>-0.002157</td>\n",
       "      <td>-0.001778</td>\n",
       "      <td>1.000000</td>\n",
       "      <td>-0.004891</td>\n",
       "      <td>...</td>\n",
       "      <td>0.318164</td>\n",
       "      <td>0.016336</td>\n",
       "      <td>0.016336</td>\n",
       "      <td>0.523273</td>\n",
       "      <td>0.523396</td>\n",
       "      <td>0.005570</td>\n",
       "      <td>0.622476</td>\n",
       "      <td>0.622476</td>\n",
       "      <td>0.120438</td>\n",
       "      <td>0.097277</td>\n",
       "    </tr>\n",
       "    <tr>\n",
       "      <th>confEncrypted</th>\n",
       "      <td>0.014470</td>\n",
       "      <td>0.012769</td>\n",
       "      <td>-0.004860</td>\n",
       "      <td>0.007763</td>\n",
       "      <td>0.007520</td>\n",
       "      <td>-0.003542</td>\n",
       "      <td>-0.002503</td>\n",
       "      <td>-0.002013</td>\n",
       "      <td>-0.004891</td>\n",
       "      <td>1.000000</td>\n",
       "      <td>...</td>\n",
       "      <td>-0.005220</td>\n",
       "      <td>-0.001651</td>\n",
       "      <td>-0.001651</td>\n",
       "      <td>-0.001831</td>\n",
       "      <td>-0.001651</td>\n",
       "      <td>-0.001651</td>\n",
       "      <td>-0.001651</td>\n",
       "      <td>-0.001651</td>\n",
       "      <td>-0.001651</td>\n",
       "      <td>-0.001651</td>\n",
       "    </tr>\n",
       "    <tr>\n",
       "      <th>H323Party</th>\n",
       "      <td>-0.076602</td>\n",
       "      <td>-0.984442</td>\n",
       "      <td>0.992938</td>\n",
       "      <td>0.983492</td>\n",
       "      <td>0.983842</td>\n",
       "      <td>-0.012666</td>\n",
       "      <td>-0.006542</td>\n",
       "      <td>-0.005394</td>\n",
       "      <td>-0.008682</td>\n",
       "      <td>-0.014872</td>\n",
       "      <td>...</td>\n",
       "      <td>-0.013654</td>\n",
       "      <td>-0.004315</td>\n",
       "      <td>-0.004315</td>\n",
       "      <td>-0.004785</td>\n",
       "      <td>-0.004315</td>\n",
       "      <td>-0.004315</td>\n",
       "      <td>-0.004315</td>\n",
       "      <td>-0.004315</td>\n",
       "      <td>-0.004315</td>\n",
       "      <td>-0.004315</td>\n",
       "    </tr>\n",
       "    <tr>\n",
       "      <th>SIPParty</th>\n",
       "      <td>-0.076602</td>\n",
       "      <td>-0.984442</td>\n",
       "      <td>0.992938</td>\n",
       "      <td>0.983492</td>\n",
       "      <td>0.983842</td>\n",
       "      <td>-0.012666</td>\n",
       "      <td>-0.006542</td>\n",
       "      <td>-0.005394</td>\n",
       "      <td>-0.008682</td>\n",
       "      <td>-0.014872</td>\n",
       "      <td>...</td>\n",
       "      <td>-0.013654</td>\n",
       "      <td>-0.004315</td>\n",
       "      <td>-0.004315</td>\n",
       "      <td>-0.004785</td>\n",
       "      <td>-0.004315</td>\n",
       "      <td>-0.004315</td>\n",
       "      <td>-0.004315</td>\n",
       "      <td>-0.004315</td>\n",
       "      <td>-0.004315</td>\n",
       "      <td>-0.004315</td>\n",
       "    </tr>\n",
       "    <tr>\n",
       "      <th>MfagetstackBT</th>\n",
       "      <td>-0.025112</td>\n",
       "      <td>0.005113</td>\n",
       "      <td>-0.002685</td>\n",
       "      <td>0.001429</td>\n",
       "      <td>0.001348</td>\n",
       "      <td>-0.001995</td>\n",
       "      <td>-0.001030</td>\n",
       "      <td>-0.000849</td>\n",
       "      <td>0.472131</td>\n",
       "      <td>-0.002319</td>\n",
       "      <td>...</td>\n",
       "      <td>0.017931</td>\n",
       "      <td>-0.000679</td>\n",
       "      <td>-0.000679</td>\n",
       "      <td>-0.000753</td>\n",
       "      <td>-0.000679</td>\n",
       "      <td>-0.000679</td>\n",
       "      <td>-0.000679</td>\n",
       "      <td>-0.000679</td>\n",
       "      <td>-0.000679</td>\n",
       "      <td>-0.000679</td>\n",
       "    </tr>\n",
       "    <tr>\n",
       "      <th>pstack-mfa</th>\n",
       "      <td>-0.054001</td>\n",
       "      <td>0.012177</td>\n",
       "      <td>-0.013730</td>\n",
       "      <td>-0.016039</td>\n",
       "      <td>-0.016009</td>\n",
       "      <td>-0.001895</td>\n",
       "      <td>-0.002298</td>\n",
       "      <td>-0.001895</td>\n",
       "      <td>0.318164</td>\n",
       "      <td>-0.005220</td>\n",
       "      <td>...</td>\n",
       "      <td>1.000000</td>\n",
       "      <td>-0.001516</td>\n",
       "      <td>-0.001516</td>\n",
       "      <td>-0.001681</td>\n",
       "      <td>-0.001516</td>\n",
       "      <td>-0.001516</td>\n",
       "      <td>-0.001516</td>\n",
       "      <td>-0.001516</td>\n",
       "      <td>-0.001516</td>\n",
       "      <td>0.235619</td>\n",
       "    </tr>\n",
       "    <tr>\n",
       "      <th>CDR</th>\n",
       "      <td>-0.017305</td>\n",
       "      <td>0.003849</td>\n",
       "      <td>-0.004355</td>\n",
       "      <td>-0.005112</td>\n",
       "      <td>-0.005102</td>\n",
       "      <td>-0.001407</td>\n",
       "      <td>-0.000726</td>\n",
       "      <td>-0.000599</td>\n",
       "      <td>0.016336</td>\n",
       "      <td>-0.001651</td>\n",
       "      <td>...</td>\n",
       "      <td>-0.001516</td>\n",
       "      <td>1.000000</td>\n",
       "      <td>1.000000</td>\n",
       "      <td>-0.000531</td>\n",
       "      <td>-0.000479</td>\n",
       "      <td>-0.000479</td>\n",
       "      <td>-0.000479</td>\n",
       "      <td>-0.000479</td>\n",
       "      <td>-0.000479</td>\n",
       "      <td>-0.000479</td>\n",
       "    </tr>\n",
       "    <tr>\n",
       "      <th>Resource</th>\n",
       "      <td>-0.017305</td>\n",
       "      <td>0.003849</td>\n",
       "      <td>-0.004355</td>\n",
       "      <td>-0.005112</td>\n",
       "      <td>-0.005102</td>\n",
       "      <td>-0.001407</td>\n",
       "      <td>-0.000726</td>\n",
       "      <td>-0.000599</td>\n",
       "      <td>0.016336</td>\n",
       "      <td>-0.001651</td>\n",
       "      <td>...</td>\n",
       "      <td>-0.001516</td>\n",
       "      <td>1.000000</td>\n",
       "      <td>1.000000</td>\n",
       "      <td>-0.000531</td>\n",
       "      <td>-0.000479</td>\n",
       "      <td>-0.000479</td>\n",
       "      <td>-0.000479</td>\n",
       "      <td>-0.000479</td>\n",
       "      <td>-0.000479</td>\n",
       "      <td>-0.000479</td>\n",
       "    </tr>\n",
       "    <tr>\n",
       "      <th>CertMngr</th>\n",
       "      <td>0.024074</td>\n",
       "      <td>0.004267</td>\n",
       "      <td>-0.004829</td>\n",
       "      <td>-0.005668</td>\n",
       "      <td>-0.005657</td>\n",
       "      <td>-0.001560</td>\n",
       "      <td>-0.000805</td>\n",
       "      <td>-0.000664</td>\n",
       "      <td>0.523273</td>\n",
       "      <td>-0.001831</td>\n",
       "      <td>...</td>\n",
       "      <td>-0.001681</td>\n",
       "      <td>-0.000531</td>\n",
       "      <td>-0.000531</td>\n",
       "      <td>1.000000</td>\n",
       "      <td>0.996306</td>\n",
       "      <td>-0.000531</td>\n",
       "      <td>-0.000531</td>\n",
       "      <td>-0.000531</td>\n",
       "      <td>-0.000531</td>\n",
       "      <td>-0.000531</td>\n",
       "    </tr>\n",
       "    <tr>\n",
       "      <th>SystemMonitorin</th>\n",
       "      <td>0.025942</td>\n",
       "      <td>0.003849</td>\n",
       "      <td>-0.004355</td>\n",
       "      <td>-0.005112</td>\n",
       "      <td>-0.005102</td>\n",
       "      <td>-0.001407</td>\n",
       "      <td>-0.000726</td>\n",
       "      <td>-0.000599</td>\n",
       "      <td>0.523396</td>\n",
       "      <td>-0.001651</td>\n",
       "      <td>...</td>\n",
       "      <td>-0.001516</td>\n",
       "      <td>-0.000479</td>\n",
       "      <td>-0.000479</td>\n",
       "      <td>0.996306</td>\n",
       "      <td>1.000000</td>\n",
       "      <td>-0.000479</td>\n",
       "      <td>-0.000479</td>\n",
       "      <td>-0.000479</td>\n",
       "      <td>-0.000479</td>\n",
       "      <td>-0.000479</td>\n",
       "    </tr>\n",
       "    <tr>\n",
       "      <th>Vreader</th>\n",
       "      <td>-0.017503</td>\n",
       "      <td>0.003849</td>\n",
       "      <td>-0.004355</td>\n",
       "      <td>-0.005112</td>\n",
       "      <td>-0.005102</td>\n",
       "      <td>-0.001407</td>\n",
       "      <td>-0.000726</td>\n",
       "      <td>-0.000599</td>\n",
       "      <td>0.005570</td>\n",
       "      <td>-0.001651</td>\n",
       "      <td>...</td>\n",
       "      <td>-0.001516</td>\n",
       "      <td>-0.000479</td>\n",
       "      <td>-0.000479</td>\n",
       "      <td>-0.000531</td>\n",
       "      <td>-0.000479</td>\n",
       "      <td>1.000000</td>\n",
       "      <td>-0.000479</td>\n",
       "      <td>-0.000479</td>\n",
       "      <td>-0.000479</td>\n",
       "      <td>-0.000479</td>\n",
       "    </tr>\n",
       "    <tr>\n",
       "      <th>McmsDaemon</th>\n",
       "      <td>0.033911</td>\n",
       "      <td>0.003849</td>\n",
       "      <td>-0.004355</td>\n",
       "      <td>-0.005112</td>\n",
       "      <td>-0.005102</td>\n",
       "      <td>-0.001407</td>\n",
       "      <td>-0.000726</td>\n",
       "      <td>-0.000599</td>\n",
       "      <td>0.622476</td>\n",
       "      <td>-0.001651</td>\n",
       "      <td>...</td>\n",
       "      <td>-0.001516</td>\n",
       "      <td>-0.000479</td>\n",
       "      <td>-0.000479</td>\n",
       "      <td>-0.000531</td>\n",
       "      <td>-0.000479</td>\n",
       "      <td>-0.000479</td>\n",
       "      <td>1.000000</td>\n",
       "      <td>1.000000</td>\n",
       "      <td>-0.000479</td>\n",
       "      <td>-0.000479</td>\n",
       "    </tr>\n",
       "    <tr>\n",
       "      <th>backtrace</th>\n",
       "      <td>0.033911</td>\n",
       "      <td>0.003849</td>\n",
       "      <td>-0.004355</td>\n",
       "      <td>-0.005112</td>\n",
       "      <td>-0.005102</td>\n",
       "      <td>-0.001407</td>\n",
       "      <td>-0.000726</td>\n",
       "      <td>-0.000599</td>\n",
       "      <td>0.622476</td>\n",
       "      <td>-0.001651</td>\n",
       "      <td>...</td>\n",
       "      <td>-0.001516</td>\n",
       "      <td>-0.000479</td>\n",
       "      <td>-0.000479</td>\n",
       "      <td>-0.000531</td>\n",
       "      <td>-0.000479</td>\n",
       "      <td>-0.000479</td>\n",
       "      <td>1.000000</td>\n",
       "      <td>1.000000</td>\n",
       "      <td>-0.000479</td>\n",
       "      <td>-0.000479</td>\n",
       "    </tr>\n",
       "    <tr>\n",
       "      <th>MCCFMngr</th>\n",
       "      <td>0.002164</td>\n",
       "      <td>0.003849</td>\n",
       "      <td>-0.004355</td>\n",
       "      <td>-0.005112</td>\n",
       "      <td>-0.005102</td>\n",
       "      <td>-0.001407</td>\n",
       "      <td>-0.000726</td>\n",
       "      <td>-0.000599</td>\n",
       "      <td>0.120438</td>\n",
       "      <td>-0.001651</td>\n",
       "      <td>...</td>\n",
       "      <td>-0.001516</td>\n",
       "      <td>-0.000479</td>\n",
       "      <td>-0.000479</td>\n",
       "      <td>-0.000531</td>\n",
       "      <td>-0.000479</td>\n",
       "      <td>-0.000479</td>\n",
       "      <td>-0.000479</td>\n",
       "      <td>-0.000479</td>\n",
       "      <td>1.000000</td>\n",
       "      <td>-0.000479</td>\n",
       "    </tr>\n",
       "    <tr>\n",
       "      <th>Logger</th>\n",
       "      <td>-0.014340</td>\n",
       "      <td>0.003849</td>\n",
       "      <td>-0.004350</td>\n",
       "      <td>-0.005099</td>\n",
       "      <td>-0.005089</td>\n",
       "      <td>-0.001407</td>\n",
       "      <td>-0.000726</td>\n",
       "      <td>-0.000599</td>\n",
       "      <td>0.097277</td>\n",
       "      <td>-0.001651</td>\n",
       "      <td>...</td>\n",
       "      <td>0.235619</td>\n",
       "      <td>-0.000479</td>\n",
       "      <td>-0.000479</td>\n",
       "      <td>-0.000531</td>\n",
       "      <td>-0.000479</td>\n",
       "      <td>-0.000479</td>\n",
       "      <td>-0.000479</td>\n",
       "      <td>-0.000479</td>\n",
       "      <td>-0.000479</td>\n",
       "      <td>1.000000</td>\n",
       "    </tr>\n",
       "  </tbody>\n",
       "</table>\n",
       "<p>23 rows × 23 columns</p>\n",
       "</div>"
      ],
      "text/plain": [
       "                      cpu   memfree  totalConf  AVCParty  PartyJoined  \\\n",
       "cpu              1.000000  0.089578  -0.074057 -0.049704    -0.049693   \n",
       "memfree          0.089578  1.000000  -0.994216 -0.970784    -0.970569   \n",
       "totalConf       -0.074057 -0.994216   1.000000  0.989780     0.989781   \n",
       "AVCParty        -0.049704 -0.970784   0.989780  1.000000     0.999986   \n",
       "PartyJoined     -0.049693 -0.970569   0.989781  0.999986     1.000000   \n",
       "ContentStarted   0.029728  0.011299  -0.012772 -0.014964    -0.014937   \n",
       "SVCParty        -0.001222  0.005834  -0.006593 -0.007750    -0.007531   \n",
       "ContentRejected  0.055893  0.004811  -0.005443 -0.006387    -0.006374   \n",
       "totalCrash       0.005630  0.011264  -0.011270 -0.011043    -0.011059   \n",
       "confEncrypted    0.014470  0.012769  -0.004860  0.007763     0.007520   \n",
       "H323Party       -0.076602 -0.984442   0.992938  0.983492     0.983842   \n",
       "SIPParty        -0.076602 -0.984442   0.992938  0.983492     0.983842   \n",
       "MfagetstackBT   -0.025112  0.005113  -0.002685  0.001429     0.001348   \n",
       "pstack-mfa      -0.054001  0.012177  -0.013730 -0.016039    -0.016009   \n",
       "CDR             -0.017305  0.003849  -0.004355 -0.005112    -0.005102   \n",
       "Resource        -0.017305  0.003849  -0.004355 -0.005112    -0.005102   \n",
       "CertMngr         0.024074  0.004267  -0.004829 -0.005668    -0.005657   \n",
       "SystemMonitorin  0.025942  0.003849  -0.004355 -0.005112    -0.005102   \n",
       "Vreader         -0.017503  0.003849  -0.004355 -0.005112    -0.005102   \n",
       "McmsDaemon       0.033911  0.003849  -0.004355 -0.005112    -0.005102   \n",
       "backtrace        0.033911  0.003849  -0.004355 -0.005112    -0.005102   \n",
       "MCCFMngr         0.002164  0.003849  -0.004355 -0.005112    -0.005102   \n",
       "Logger          -0.014340  0.003849  -0.004350 -0.005099    -0.005089   \n",
       "\n",
       "                 ContentStarted  SVCParty  ContentRejected  totalCrash  \\\n",
       "cpu                    0.029728 -0.001222         0.055893    0.005630   \n",
       "memfree                0.011299  0.005834         0.004811    0.011264   \n",
       "totalConf             -0.012772 -0.006593        -0.005443   -0.011270   \n",
       "AVCParty              -0.014964 -0.007750        -0.006387   -0.011043   \n",
       "PartyJoined           -0.014937 -0.007531        -0.006374   -0.011059   \n",
       "ContentStarted         1.000000 -0.001987         0.284494   -0.003379   \n",
       "SVCParty              -0.001987  1.000000        -0.000908   -0.002157   \n",
       "ContentRejected        0.284494 -0.000908         1.000000   -0.001778   \n",
       "totalCrash            -0.003379 -0.002157        -0.001778    1.000000   \n",
       "confEncrypted         -0.003542 -0.002503        -0.002013   -0.004891   \n",
       "H323Party             -0.012666 -0.006542        -0.005394   -0.008682   \n",
       "SIPParty              -0.012666 -0.006542        -0.005394   -0.008682   \n",
       "MfagetstackBT         -0.001995 -0.001030        -0.000849    0.472131   \n",
       "pstack-mfa            -0.001895 -0.002298        -0.001895    0.318164   \n",
       "CDR                   -0.001407 -0.000726        -0.000599    0.016336   \n",
       "Resource              -0.001407 -0.000726        -0.000599    0.016336   \n",
       "CertMngr              -0.001560 -0.000805        -0.000664    0.523273   \n",
       "SystemMonitorin       -0.001407 -0.000726        -0.000599    0.523396   \n",
       "Vreader               -0.001407 -0.000726        -0.000599    0.005570   \n",
       "McmsDaemon            -0.001407 -0.000726        -0.000599    0.622476   \n",
       "backtrace             -0.001407 -0.000726        -0.000599    0.622476   \n",
       "MCCFMngr              -0.001407 -0.000726        -0.000599    0.120438   \n",
       "Logger                -0.001407 -0.000726        -0.000599    0.097277   \n",
       "\n",
       "                 confEncrypted    ...     pstack-mfa       CDR  Resource  \\\n",
       "cpu                   0.014470    ...      -0.054001 -0.017305 -0.017305   \n",
       "memfree               0.012769    ...       0.012177  0.003849  0.003849   \n",
       "totalConf            -0.004860    ...      -0.013730 -0.004355 -0.004355   \n",
       "AVCParty              0.007763    ...      -0.016039 -0.005112 -0.005112   \n",
       "PartyJoined           0.007520    ...      -0.016009 -0.005102 -0.005102   \n",
       "ContentStarted       -0.003542    ...      -0.001895 -0.001407 -0.001407   \n",
       "SVCParty             -0.002503    ...      -0.002298 -0.000726 -0.000726   \n",
       "ContentRejected      -0.002013    ...      -0.001895 -0.000599 -0.000599   \n",
       "totalCrash           -0.004891    ...       0.318164  0.016336  0.016336   \n",
       "confEncrypted         1.000000    ...      -0.005220 -0.001651 -0.001651   \n",
       "H323Party            -0.014872    ...      -0.013654 -0.004315 -0.004315   \n",
       "SIPParty             -0.014872    ...      -0.013654 -0.004315 -0.004315   \n",
       "MfagetstackBT        -0.002319    ...       0.017931 -0.000679 -0.000679   \n",
       "pstack-mfa           -0.005220    ...       1.000000 -0.001516 -0.001516   \n",
       "CDR                  -0.001651    ...      -0.001516  1.000000  1.000000   \n",
       "Resource             -0.001651    ...      -0.001516  1.000000  1.000000   \n",
       "CertMngr             -0.001831    ...      -0.001681 -0.000531 -0.000531   \n",
       "SystemMonitorin      -0.001651    ...      -0.001516 -0.000479 -0.000479   \n",
       "Vreader              -0.001651    ...      -0.001516 -0.000479 -0.000479   \n",
       "McmsDaemon           -0.001651    ...      -0.001516 -0.000479 -0.000479   \n",
       "backtrace            -0.001651    ...      -0.001516 -0.000479 -0.000479   \n",
       "MCCFMngr             -0.001651    ...      -0.001516 -0.000479 -0.000479   \n",
       "Logger               -0.001651    ...       0.235619 -0.000479 -0.000479   \n",
       "\n",
       "                 CertMngr  SystemMonitorin   Vreader  McmsDaemon  backtrace  \\\n",
       "cpu              0.024074         0.025942 -0.017503    0.033911   0.033911   \n",
       "memfree          0.004267         0.003849  0.003849    0.003849   0.003849   \n",
       "totalConf       -0.004829        -0.004355 -0.004355   -0.004355  -0.004355   \n",
       "AVCParty        -0.005668        -0.005112 -0.005112   -0.005112  -0.005112   \n",
       "PartyJoined     -0.005657        -0.005102 -0.005102   -0.005102  -0.005102   \n",
       "ContentStarted  -0.001560        -0.001407 -0.001407   -0.001407  -0.001407   \n",
       "SVCParty        -0.000805        -0.000726 -0.000726   -0.000726  -0.000726   \n",
       "ContentRejected -0.000664        -0.000599 -0.000599   -0.000599  -0.000599   \n",
       "totalCrash       0.523273         0.523396  0.005570    0.622476   0.622476   \n",
       "confEncrypted   -0.001831        -0.001651 -0.001651   -0.001651  -0.001651   \n",
       "H323Party       -0.004785        -0.004315 -0.004315   -0.004315  -0.004315   \n",
       "SIPParty        -0.004785        -0.004315 -0.004315   -0.004315  -0.004315   \n",
       "MfagetstackBT   -0.000753        -0.000679 -0.000679   -0.000679  -0.000679   \n",
       "pstack-mfa      -0.001681        -0.001516 -0.001516   -0.001516  -0.001516   \n",
       "CDR             -0.000531        -0.000479 -0.000479   -0.000479  -0.000479   \n",
       "Resource        -0.000531        -0.000479 -0.000479   -0.000479  -0.000479   \n",
       "CertMngr         1.000000         0.996306 -0.000531   -0.000531  -0.000531   \n",
       "SystemMonitorin  0.996306         1.000000 -0.000479   -0.000479  -0.000479   \n",
       "Vreader         -0.000531        -0.000479  1.000000   -0.000479  -0.000479   \n",
       "McmsDaemon      -0.000531        -0.000479 -0.000479    1.000000   1.000000   \n",
       "backtrace       -0.000531        -0.000479 -0.000479    1.000000   1.000000   \n",
       "MCCFMngr        -0.000531        -0.000479 -0.000479   -0.000479  -0.000479   \n",
       "Logger          -0.000531        -0.000479 -0.000479   -0.000479  -0.000479   \n",
       "\n",
       "                 MCCFMngr    Logger  \n",
       "cpu              0.002164 -0.014340  \n",
       "memfree          0.003849  0.003849  \n",
       "totalConf       -0.004355 -0.004350  \n",
       "AVCParty        -0.005112 -0.005099  \n",
       "PartyJoined     -0.005102 -0.005089  \n",
       "ContentStarted  -0.001407 -0.001407  \n",
       "SVCParty        -0.000726 -0.000726  \n",
       "ContentRejected -0.000599 -0.000599  \n",
       "totalCrash       0.120438  0.097277  \n",
       "confEncrypted   -0.001651 -0.001651  \n",
       "H323Party       -0.004315 -0.004315  \n",
       "SIPParty        -0.004315 -0.004315  \n",
       "MfagetstackBT   -0.000679 -0.000679  \n",
       "pstack-mfa      -0.001516  0.235619  \n",
       "CDR             -0.000479 -0.000479  \n",
       "Resource        -0.000479 -0.000479  \n",
       "CertMngr        -0.000531 -0.000531  \n",
       "SystemMonitorin -0.000479 -0.000479  \n",
       "Vreader         -0.000479 -0.000479  \n",
       "McmsDaemon      -0.000479 -0.000479  \n",
       "backtrace       -0.000479 -0.000479  \n",
       "MCCFMngr         1.000000 -0.000479  \n",
       "Logger          -0.000479  1.000000  \n",
       "\n",
       "[23 rows x 23 columns]"
      ]
     },
     "execution_count": 287,
     "metadata": {},
     "output_type": "execute_result"
    }
   ],
   "source": [
    "normalized_data.corr(method='pearson')"
   ]
  },
  {
   "cell_type": "code",
   "execution_count": 288,
   "metadata": {},
   "outputs": [],
   "source": [
    "#heatmap of correlation"
   ]
  },
  {
   "cell_type": "code",
   "execution_count": 289,
   "metadata": {},
   "outputs": [
    {
     "data": {
      "text/plain": [
       "<matplotlib.axes._subplots.AxesSubplot at 0x18d5d160>"
      ]
     },
     "execution_count": 289,
     "metadata": {},
     "output_type": "execute_result"
    },
    {
     "data": {
      "image/png": "[encoded data removed]",
      "text/plain": [
       "<Figure size 1440x720 with 2 Axes>"
      ]
     },
     "metadata": {},
     "output_type": "display_data"
    }
   ],
   "source": [
    "plt.figure(figsize=(20,10))\n",
    "sns.heatmap(normalized_data.corr(method='pearson'),annot=True)"
   ]
  },
  {
   "cell_type": "code",
   "execution_count": 290,
   "metadata": {},
   "outputs": [],
   "source": [
    "#distant plot for total crashes"
   ]
  },
  {
   "cell_type": "code",
   "execution_count": 291,
   "metadata": {},
   "outputs": [
    {
     "name": "stderr",
     "output_type": "stream",
     "text": [
      "C:\\Users\\RDhingra\\AppData\\Local\\Continuum\\anaconda3\\lib\\site-packages\\scipy\\stats\\stats.py:1713: FutureWarning: Using a non-tuple sequence for multidimensional indexing is deprecated; use `arr[tuple(seq)]` instead of `arr[seq]`. In the future this will be interpreted as an array index, `arr[np.array(seq)]`, which will result either in an error or a different result.\n",
      "  return np.add.reduce(sorted[indexer] * weights, axis=axis) / sumval\n"
     ]
    },
    {
     "data": {
      "text/plain": [
       "<matplotlib.axes._subplots.AxesSubplot at 0x19260860>"
      ]
     },
     "execution_count": 291,
     "metadata": {},
     "output_type": "execute_result"
    },
    {
     "data": {
      "image/png": "[encoded data removed]",
      "text/plain": [
       "<Figure size 432x288 with 1 Axes>"
      ]
     },
     "metadata": {},
     "output_type": "display_data"
    }
   ],
   "source": [
    "sns.distplot(Input_data['totalCrash'])"
   ]
  },
  {
   "cell_type": "code",
   "execution_count": 292,
   "metadata": {},
   "outputs": [],
   "source": [
    "#dist plot for cpu"
   ]
  },
  {
   "cell_type": "code",
   "execution_count": 293,
   "metadata": {},
   "outputs": [
    {
     "name": "stderr",
     "output_type": "stream",
     "text": [
      "C:\\Users\\RDhingra\\AppData\\Local\\Continuum\\anaconda3\\lib\\site-packages\\scipy\\stats\\stats.py:1713: FutureWarning: Using a non-tuple sequence for multidimensional indexing is deprecated; use `arr[tuple(seq)]` instead of `arr[seq]`. In the future this will be interpreted as an array index, `arr[np.array(seq)]`, which will result either in an error or a different result.\n",
      "  return np.add.reduce(sorted[indexer] * weights, axis=axis) / sumval\n"
     ]
    },
    {
     "data": {
      "text/plain": [
       "<matplotlib.axes._subplots.AxesSubplot at 0x18ad3240>"
      ]
     },
     "execution_count": 293,
     "metadata": {},
     "output_type": "execute_result"
    },
    {
     "data": {
      "image/png": "[encoded data removed]",
      "text/plain": [
       "<Figure size 432x288 with 1 Axes>"
      ]
     },
     "metadata": {},
     "output_type": "display_data"
    }
   ],
   "source": [
    "sns.distplot(Input_data['cpu'])"
   ]
  },
  {
   "cell_type": "code",
   "execution_count": 294,
   "metadata": {},
   "outputs": [],
   "source": [
    "#joint plot for cpu and totalcrash"
   ]
  },
  {
   "cell_type": "code",
   "execution_count": 295,
   "metadata": {},
   "outputs": [
    {
     "name": "stderr",
     "output_type": "stream",
     "text": [
      "C:\\Users\\RDhingra\\AppData\\Local\\Continuum\\anaconda3\\lib\\site-packages\\scipy\\stats\\stats.py:1713: FutureWarning: Using a non-tuple sequence for multidimensional indexing is deprecated; use `arr[tuple(seq)]` instead of `arr[seq]`. In the future this will be interpreted as an array index, `arr[np.array(seq)]`, which will result either in an error or a different result.\n",
      "  return np.add.reduce(sorted[indexer] * weights, axis=axis) / sumval\n"
     ]
    },
    {
     "data": {
      "text/plain": [
       "<seaborn.axisgrid.JointGrid at 0x1a973cc0>"
      ]
     },
     "execution_count": 295,
     "metadata": {},
     "output_type": "execute_result"
    },
    {
     "data": {
      "text/plain": [
       "<Figure size 720x360 with 0 Axes>"
      ]
     },
     "metadata": {},
     "output_type": "display_data"
    },
    {
     "data": {
      "image/png": "[encoded data removed]",
      "text/plain": [
       "<Figure size 432x432 with 3 Axes>"
      ]
     },
     "metadata": {},
     "output_type": "display_data"
    }
   ],
   "source": [
    "plt.figure(figsize=(10,5))\n",
    "sns.jointplot(x='cpu',y='totalCrash',data=Input_data,kind='scatter')"
   ]
  },
  {
   "cell_type": "code",
   "execution_count": 296,
   "metadata": {},
   "outputs": [],
   "source": [
    "#jointplot for totalconf and totalcrash"
   ]
  },
  {
   "cell_type": "code",
   "execution_count": 297,
   "metadata": {},
   "outputs": [
    {
     "name": "stderr",
     "output_type": "stream",
     "text": [
      "C:\\Users\\RDhingra\\AppData\\Local\\Continuum\\anaconda3\\lib\\site-packages\\scipy\\stats\\stats.py:1713: FutureWarning: Using a non-tuple sequence for multidimensional indexing is deprecated; use `arr[tuple(seq)]` instead of `arr[seq]`. In the future this will be interpreted as an array index, `arr[np.array(seq)]`, which will result either in an error or a different result.\n",
      "  return np.add.reduce(sorted[indexer] * weights, axis=axis) / sumval\n"
     ]
    },
    {
     "data": {
      "text/plain": [
       "<seaborn.axisgrid.JointGrid at 0x18a84eb8>"
      ]
     },
     "execution_count": 297,
     "metadata": {},
     "output_type": "execute_result"
    },
    {
     "data": {
      "image/png": "[encoded data removed]",
      "text/plain": [
       "<Figure size 432x432 with 3 Axes>"
      ]
     },
     "metadata": {},
     "output_type": "display_data"
    }
   ],
   "source": [
    "sns.jointplot(x='totalConf',y='totalCrash',data=Input_data,kind='scatter')"
   ]
  },
  {
   "cell_type": "code",
   "execution_count": 298,
   "metadata": {},
   "outputs": [],
   "source": [
    "#jointplot for memfree and totalcrash"
   ]
  },
  {
   "cell_type": "code",
   "execution_count": 299,
   "metadata": {},
   "outputs": [
    {
     "name": "stderr",
     "output_type": "stream",
     "text": [
      "C:\\Users\\RDhingra\\AppData\\Local\\Continuum\\anaconda3\\lib\\site-packages\\scipy\\stats\\stats.py:1713: FutureWarning: Using a non-tuple sequence for multidimensional indexing is deprecated; use `arr[tuple(seq)]` instead of `arr[seq]`. In the future this will be interpreted as an array index, `arr[np.array(seq)]`, which will result either in an error or a different result.\n",
      "  return np.add.reduce(sorted[indexer] * weights, axis=axis) / sumval\n"
     ]
    },
    {
     "data": {
      "text/plain": [
       "<seaborn.axisgrid.JointGrid at 0x1996f3c8>"
      ]
     },
     "execution_count": 299,
     "metadata": {},
     "output_type": "execute_result"
    },
    {
     "data": {
      "text/plain": [
       "<Figure size 720x360 with 0 Axes>"
      ]
     },
     "metadata": {},
     "output_type": "display_data"
    },
    {
     "data": {
      "image/png": "[encoded data removed]",
      "text/plain": [
       "<Figure size 432x432 with 3 Axes>"
      ]
     },
     "metadata": {},
     "output_type": "display_data"
    }
   ],
   "source": [
    "plt.figure(figsize=(10,5))\n",
    "sns.jointplot(x='memfree',y='totalCrash',data=Input_data,kind='scatter')"
   ]
  },
  {
   "cell_type": "code",
   "execution_count": 300,
   "metadata": {},
   "outputs": [],
   "source": [
    "#create new dataframe including cpu,mem,totalconf and crash"
   ]
  },
  {
   "cell_type": "code",
   "execution_count": 301,
   "metadata": {},
   "outputs": [],
   "source": [
    "Input_data_new = Input_data[['cpu','memfree', 'totalConf','totalCrash']]"
   ]
  },
  {
   "cell_type": "code",
   "execution_count": 302,
   "metadata": {},
   "outputs": [],
   "source": [
    "#pairplots for cpu,mem,conf and crashes"
   ]
  },
  {
   "cell_type": "code",
   "execution_count": 303,
   "metadata": {},
   "outputs": [
    {
     "data": {
      "text/plain": [
       "<seaborn.axisgrid.PairGrid at 0x18b3e780>"
      ]
     },
     "execution_count": 303,
     "metadata": {},
     "output_type": "execute_result"
    },
    {
     "data": {
      "image/png": "[encoded data removed]",
      "text/plain": [
       "<Figure size 720x720 with 20 Axes>"
      ]
     },
     "metadata": {},
     "output_type": "display_data"
    }
   ],
   "source": [
    "#plt.figure(figsize=(10,5))\n",
    "sns.pairplot(Input_data_new)"
   ]
  },
  {
   "cell_type": "code",
   "execution_count": null,
   "metadata": {},
   "outputs": [],
   "source": [
    "# Linear Regression"
   ]
  },
  {
   "cell_type": "code",
   "execution_count": null,
   "metadata": {},
   "outputs": [],
   "source": [
    "X= Input_data_new[['cpu','memfree','totalConf']]"
   ]
  },
  {
   "cell_type": "code",
   "execution_count": null,
   "metadata": {},
   "outputs": [],
   "source": [
    "y= Input_data_new['totalCrash']"
   ]
  },
  {
   "cell_type": "code",
   "execution_count": null,
   "metadata": {},
   "outputs": [],
   "source": [
    "from sklearn.model_selection import train_test_split"
   ]
  },
  {
   "cell_type": "code",
   "execution_count": null,
   "metadata": {},
   "outputs": [],
   "source": [
    "X_train, X_test, y_train, y_test = train_test_split(X, y,test_size=0.4, random_state=101)"
   ]
  },
  {
   "cell_type": "code",
   "execution_count": null,
   "metadata": {},
   "outputs": [],
   "source": [
    "from sklearn.linear_model import LinearRegression"
   ]
  },
  {
   "cell_type": "code",
   "execution_count": null,
   "metadata": {},
   "outputs": [],
   "source": [
    "lm = LinearRegression()"
   ]
  },
  {
   "cell_type": "code",
   "execution_count": null,
   "metadata": {},
   "outputs": [],
   "source": [
    "lm.fit(X_train,y_train)"
   ]
  },
  {
   "cell_type": "code",
   "execution_count": null,
   "metadata": {},
   "outputs": [],
   "source": [
    "print(lm.intercept_)"
   ]
  },
  {
   "cell_type": "code",
   "execution_count": null,
   "metadata": {},
   "outputs": [],
   "source": [
    "coeff_df = pd.DataFrame(lm.coef_,X.columns,columns=['Coefficient'])\n",
    "coeff_df"
   ]
  },
  {
   "cell_type": "code",
   "execution_count": null,
   "metadata": {},
   "outputs": [],
   "source": [
    "predictions = lm.predict(X_test)"
   ]
  },
  {
   "cell_type": "code",
   "execution_count": null,
   "metadata": {},
   "outputs": [],
   "source": [
    "predictions"
   ]
  },
  {
   "cell_type": "code",
   "execution_count": null,
   "metadata": {},
   "outputs": [],
   "source": [
    "plt.scatter(y_test,predictions)"
   ]
  },
  {
   "cell_type": "code",
   "execution_count": null,
   "metadata": {},
   "outputs": [],
   "source": [
    "sns.distplot((y_test-predictions),bins=50);"
   ]
  },
  {
   "cell_type": "code",
   "execution_count": null,
   "metadata": {},
   "outputs": [],
   "source": [
    "#evaluate metrics"
   ]
  },
  {
   "cell_type": "code",
   "execution_count": null,
   "metadata": {},
   "outputs": [],
   "source": [
    "from sklearn import metrics"
   ]
  },
  {
   "cell_type": "code",
   "execution_count": null,
   "metadata": {},
   "outputs": [],
   "source": [
    "print('MAE:', metrics.mean_absolute_error(y_test, predictions))\n",
    "print('MSE:', metrics.mean_squared_error(y_test, predictions))\n",
    "print('RMSE:', np.sqrt(metrics.mean_squared_error(y_test, predictions)))"
   ]
  },
  {
   "cell_type": "code",
   "execution_count": null,
   "metadata": {},
   "outputs": [],
   "source": []
  },
  {
   "cell_type": "code",
   "execution_count": null,
   "metadata": {},
   "outputs": [],
   "source": []
  },
  {
   "cell_type": "code",
   "execution_count": null,
   "metadata": {},
   "outputs": [],
   "source": []
  },
  {
   "cell_type": "code",
   "execution_count": null,
   "metadata": {},
   "outputs": [],
   "source": [
    "from sklearn.linear_model import LogisticRegression"
   ]
  },
  {
   "cell_type": "code",
   "execution_count": null,
   "metadata": {},
   "outputs": [],
   "source": []
  },
  {
   "cell_type": "code",
   "execution_count": null,
   "metadata": {},
   "outputs": [],
   "source": [
    "X_train1, X_test1, y_train1, y_test1 = train_test_split(X, y, test_size=0.3, random_state=101)"
   ]
  },
  {
   "cell_type": "code",
   "execution_count": null,
   "metadata": {},
   "outputs": [],
   "source": [
    "logmodel = LogisticRegression()\n",
    "logmodel.fit(X_train1,y_train1)"
   ]
  },
  {
   "cell_type": "code",
   "execution_count": null,
   "metadata": {},
   "outputs": [],
   "source": [
    "predictions = logmodel.predict(X_test1)"
   ]
  },
  {
   "cell_type": "code",
   "execution_count": null,
   "metadata": {},
   "outputs": [],
   "source": [
    "from sklearn.metrics import classification_report"
   ]
  },
  {
   "cell_type": "code",
   "execution_count": null,
   "metadata": {},
   "outputs": [],
   "source": [
    "print(classification_report(y_test1,predictions))"
   ]
  },
  {
   "cell_type": "code",
   "execution_count": null,
   "metadata": {},
   "outputs": [],
   "source": [
    "from sklearn.preprocessing import StandardScaler"
   ]
  },
  {
   "cell_type": "code",
   "execution_count": null,
   "metadata": {},
   "outputs": [],
   "source": [
    "scaler = StandardScaler()"
   ]
  },
  {
   "cell_type": "code",
   "execution_count": null,
   "metadata": {},
   "outputs": [],
   "source": [
    "#version1 = pd.get_dummies(Input_data['version'],drop_first=True)\n",
    "#version1\n",
    "#Input_data.head()\n",
    "#Input_data.drop(['version'],axis=1,inplace=True)\n",
    "#Input_data = pd.concat([Input_data,version1],axis=1)\n",
    "#Input_data.head()"
   ]
  },
  {
   "cell_type": "code",
   "execution_count": null,
   "metadata": {},
   "outputs": [],
   "source": [
    "scaler.fit(Input_data_new.drop('totalCrash',axis=1))"
   ]
  },
  {
   "cell_type": "code",
   "execution_count": null,
   "metadata": {},
   "outputs": [],
   "source": []
  },
  {
   "cell_type": "code",
   "execution_count": null,
   "metadata": {},
   "outputs": [],
   "source": [
    "scaled_features = scaler.transform(Input_data_new.drop('totalCrash',axis=1))"
   ]
  },
  {
   "cell_type": "code",
   "execution_count": null,
   "metadata": {},
   "outputs": [],
   "source": []
  },
  {
   "cell_type": "code",
   "execution_count": null,
   "metadata": {},
   "outputs": [],
   "source": [
    "from sklearn.model_selection import train_test_split"
   ]
  },
  {
   "cell_type": "code",
   "execution_count": null,
   "metadata": {},
   "outputs": [],
   "source": [
    "X_train2, X_test2, y_train2, y_test2 = train_test_split(scaled_features,Input_data_new['totalCrash'],\n",
    "                                                    test_size=0.30)"
   ]
  },
  {
   "cell_type": "code",
   "execution_count": null,
   "metadata": {},
   "outputs": [],
   "source": [
    "from sklearn.neighbors import KNeighborsClassifier"
   ]
  },
  {
   "cell_type": "code",
   "execution_count": null,
   "metadata": {},
   "outputs": [],
   "source": [
    "knn = KNeighborsClassifier(n_neighbors=1)"
   ]
  },
  {
   "cell_type": "code",
   "execution_count": null,
   "metadata": {},
   "outputs": [],
   "source": [
    "knn.fit(X_train2,y_train2)"
   ]
  },
  {
   "cell_type": "code",
   "execution_count": null,
   "metadata": {},
   "outputs": [],
   "source": [
    "pred = knn.predict(X_test2)"
   ]
  },
  {
   "cell_type": "code",
   "execution_count": null,
   "metadata": {},
   "outputs": [],
   "source": [
    "from sklearn.metrics import classification_report,confusion_matrix"
   ]
  },
  {
   "cell_type": "code",
   "execution_count": null,
   "metadata": {},
   "outputs": [],
   "source": [
    "print(confusion_matrix(y_test2,pred))"
   ]
  },
  {
   "cell_type": "code",
   "execution_count": null,
   "metadata": {},
   "outputs": [],
   "source": [
    "print(classification_report(y_test2,pred))"
   ]
  },
  {
   "cell_type": "code",
   "execution_count": null,
   "metadata": {},
   "outputs": [],
   "source": [
    "error_rate = []\n",
    "\n",
    "# Will take some time\n",
    "for i in range(1,40):\n",
    "    \n",
    "    knn = KNeighborsClassifier(n_neighbors=i)\n",
    "    knn.fit(X_train2,y_train2)\n",
    "    pred_i = knn.predict(X_test2)\n",
    "    error_rate.append(np.mean(pred_i != y_test2))"
   ]
  },
  {
   "cell_type": "code",
   "execution_count": null,
   "metadata": {},
   "outputs": [],
   "source": [
    "plt.figure(figsize=(10,6))\n",
    "plt.plot(range(1,40),error_rate,color='blue', linestyle='dashed', marker='o',\n",
    "         markerfacecolor='red', markersize=10)\n",
    "plt.title('Error Rate vs. K Value')\n",
    "plt.xlabel('K')\n",
    "plt.ylabel('Error Rate')"
   ]
  },
  {
   "cell_type": "code",
   "execution_count": null,
   "metadata": {},
   "outputs": [],
   "source": [
    "# FIRST A QUICK COMPARISON TO OUR ORIGINAL K=1\n",
    "knn = KNeighborsClassifier(n_neighbors=1)\n",
    "\n",
    "knn.fit(X_train2,y_train2)\n",
    "pred = knn.predict(X_test2)\n",
    "\n",
    "print('WITH K=1')\n",
    "print('\\n')\n",
    "print(confusion_matrix(y_test2,pred))\n",
    "print('\\n')\n",
    "print(classification_report(y_test2,pred))"
   ]
  },
  {
   "cell_type": "code",
   "execution_count": null,
   "metadata": {},
   "outputs": [],
   "source": [
    "# NOW WITH K=23\n",
    "knn = KNeighborsClassifier(n_neighbors=10)\n",
    "\n",
    "knn.fit(X_train2,y_train2)\n",
    "pred = knn.predict(X_test2)\n",
    "\n",
    "print('WITH K=5')\n",
    "print('\\n')\n",
    "print(confusion_matrix(y_test2,pred))\n",
    "print('\\n')\n",
    "print(classification_report(y_test2,pred))"
   ]
  },
  {
   "cell_type": "code",
   "execution_count": null,
   "metadata": {},
   "outputs": [],
   "source": []
  }
 ],
 "metadata": {
  "kernelspec": {
   "display_name": "Python 3",
   "language": "python",
   "name": "python3"
  },
  "language_info": {
   "codemirror_mode": {
    "name": "ipython",
    "version": 3
   },
   "file_extension": ".py",
   "mimetype": "text/x-python",
   "name": "python",
   "nbconvert_exporter": "python",
   "pygments_lexer": "ipython3",
   "version": "3.6.6"
  }
 },
 "nbformat": 4,
 "nbformat_minor": 2
}
